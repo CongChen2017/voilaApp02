{
 "cells": [
  {
   "cell_type": "markdown",
   "metadata": {},
   "source": [
    "# Topic Mining from Reviews or Text 📚\n",
    "\n",
    "This application takes a collection of reviews or other texts and mines topics from the corpus.\n",
    "\n",
    "**Usage**\n",
    "- Please wait for the app to load.\n",
    "- Select or upload dataset.\n",
    "- The uploaded data will be text file with one review per line.\n",
    "- Pick number of topics and number of keywords (default is 10 for both).\n",
    "- Then click on the 'Start Mining' button below.  \n",
    "\n",
    "\n",
    "Cong Chen | congc4@illinois.edu\n",
    "\n",
    "***"
   ]
  },
  {
   "cell_type": "code",
   "execution_count": 1,
   "metadata": {},
   "outputs": [],
   "source": [
    "from sklearn.feature_extraction.text import TfidfVectorizer\n",
    "from time import time\n",
    "from gensim import models\n",
    "from gensim import matutils\n",
    "import ipywidgets as widgets\n",
    "from IPython.display import display\n",
    "import codecs"
   ]
  },
  {
   "cell_type": "code",
   "execution_count": 2,
   "metadata": {},
   "outputs": [],
   "source": [
    "def run_lda(text):\n",
    "    numfeatures = 500\n",
    "    if num_words.value:\n",
    "        num_display_words = num_words.value\n",
    "    else:\n",
    "        num_display_words = 10\n",
    "\n",
    "    if num_topics.value:\n",
    "        K_clusters = num_topics.value\n",
    "    else:\n",
    "        K_clusters = 10\n",
    "    \n",
    "    text_split = text.split(\"\\n\")\n",
    "        \n",
    "    vectorizer = TfidfVectorizer(max_df=0.5, max_features=numfeatures,\n",
    "                                     min_df=2, stop_words='english',\n",
    "                                     use_idf=True)\n",
    "    with output: print(\"Creating text representation ...\")\n",
    "    X = vectorizer.fit_transform(text_split)\n",
    "    with output: print(\"Building corpus ...\")\n",
    "    id2words ={}\n",
    "    for i,word in enumerate(vectorizer.get_feature_names()):\n",
    "        id2words[i] = word\n",
    "        \n",
    "    corpus = matutils.Sparse2Corpus(X,  documents_columns=False)\n",
    "    with output: print(\"Running topic mining algorithm ...\")\n",
    "    lda = models.ldamodel.LdaModel(corpus, num_topics=K_clusters, id2word=id2words)\n",
    "    \n",
    "    \n",
    "    output_text = []\n",
    "    for i, item in enumerate(lda.show_topics(num_topics=K_clusters, num_words=num_display_words, formatted=False)):\n",
    "        topic_mined = []\n",
    "        for term in item[1]:\n",
    "            topic_mined.append( term[0] )\n",
    "        output_text.append(topic_mined)\n",
    "    \n",
    "    \n",
    "    return output_text"
   ]
  },
  {
   "cell_type": "code",
   "execution_count": 26,
   "metadata": {},
   "outputs": [],
   "source": [
    "def run_lsi(text):\n",
    "    numfeatures = 200\n",
    "    if num_words.value:\n",
    "        num_display_words = num_words.value\n",
    "    else:\n",
    "        num_display_words = 10\n",
    "\n",
    "    if num_topics.value:\n",
    "        K_clusters = num_topics.value\n",
    "    else:\n",
    "        K_clusters = 10\n",
    "    \n",
    "    text_split = text.split(\"\\n\")\n",
    "    vectorizer = TfidfVectorizer(max_df=0.5, max_features=numfeatures,\n",
    "                                     min_df=2, stop_words='english',\n",
    "                                     use_idf=True)\n",
    "\n",
    "    with output: print(\"Creating text representation ...\")\n",
    "    X = vectorizer.fit_transform(text_split)\n",
    "    with output: print(\"Building corpus ...\")\n",
    "\n",
    "    # mapping from feature id to acutal word\n",
    "    id2words ={}\n",
    "    for i,word in enumerate(vectorizer.get_feature_names()):\n",
    "        id2words[i] = word\n",
    "\n",
    "    corpus = matutils.Sparse2Corpus(X,  documents_columns=False)\n",
    "    with output: print(\"Running topic mining algorithm ...\")\n",
    "        \n",
    "    lsi = models.LsiModel(corpus, num_topics=K_clusters, id2word=id2words)\n",
    "\n",
    "    output_text = []\n",
    "    for i, item in enumerate(lsi.show_topics(num_topics=K_clusters, num_words=num_display_words, formatted=False)):\n",
    "        topic_mined = []\n",
    "        for term in item[1]:\n",
    "            topic_mined.append( term[0] )\n",
    "        output_text.append(topic_mined)\n",
    "    \n",
    "    \n",
    "    return output_text"
   ]
  },
  {
   "cell_type": "code",
   "execution_count": 3,
   "metadata": {},
   "outputs": [],
   "source": [
    "def getHTMLTable(output_text):\n",
    "    # CSS style generated using https://divtable.com/table-styler/\n",
    "    html='''\n",
    "    <style type=\"text/css\">\n",
    "        table.minimalistBlack {\n",
    "          border: 1px solid #000000;\n",
    "          width: 100%;\n",
    "          text-align: left;\n",
    "          border-collapse: collapse;\n",
    "        }\n",
    "        table.minimalistBlack td, table.minimalistBlack th {\n",
    "          border: 1px solid #000000;\n",
    "          padding: 4px 4px;\n",
    "        }\n",
    "        table.minimalistBlack tbody td {\n",
    "          font-size: 13px;\n",
    "        }\n",
    "        table.minimalistBlack thead {\n",
    "          background: #CFCFCF;\n",
    "          background: -moz-linear-gradient(top, #dbdbdb 0%, #d3d3d3 66%, #CFCFCF 100%);\n",
    "          background: -webkit-linear-gradient(top, #dbdbdb 0%, #d3d3d3 66%, #CFCFCF 100%);\n",
    "          background: linear-gradient(to bottom, #dbdbdb 0%, #d3d3d3 66%, #CFCFCF 100%);\n",
    "          border-bottom: 2px solid #000000;\n",
    "        }\n",
    "        table.minimalistBlack thead th {\n",
    "          font-size: 15px;\n",
    "          font-weight: bold;\n",
    "          color: #000000;\n",
    "          text-align: left;\n",
    "        }\n",
    "        table.minimalistBlack tfoot td {\n",
    "          font-size: 14px;\n",
    "        }\n",
    "    </style>\n",
    "    \n",
    "    <table class=\"minimalistBlack\">\n",
    "        <tr>\n",
    "            <th>Topic</th>\n",
    "            <th>Keywords</th>\n",
    "        </tr>\n",
    "        '''\n",
    "    i=1\n",
    "    for b in output_text:\n",
    "        html += '''\n",
    "        <tr>\n",
    "            <td>{}</td>\n",
    "            <td>{}</td>\n",
    "        </tr>\n",
    "        '''.format(i,str(b))\n",
    "        i+=1\n",
    "    html+=\"</table>\"\n",
    "    return html"
   ]
  },
  {
   "cell_type": "code",
   "execution_count": 4,
   "metadata": {},
   "outputs": [],
   "source": [
    "# Set up uploader events\n",
    "def on_upload(change):\n",
    "    '''\n",
    "    Triggered when image is uploaded\n",
    "    '''\n",
    "    textDisplay.value = \"\"\n",
    "#     output.clear_output()\n",
    "#     with status: print(\"start read in file\")\n",
    "    status.clear_output()\n",
    "    with status: print(\"Updating dataset..\")\n",
    "    temp = codecs.decode(list(uploader.value.values())[0]['content'], encoding=\"utf-8\")\n",
    "#     content = temp.split(\"\\n\")\n",
    "    \n",
    "    textDisplay.value = temp\n",
    "    \n",
    "#     for review in content:\n",
    "#         text.append(review)\n",
    "    \n",
    "    button.disabled = False\n",
    "    display(button)\n",
    "    \n",
    "    status.clear_output()\n",
    "    with status: print(\"Dataset uploaded! Set parameters and click 'Start Mining'\")\n",
    "    \n",
    "    return"
   ]
  },
  {
   "cell_type": "code",
   "execution_count": 5,
   "metadata": {},
   "outputs": [],
   "source": [
    "def on_button_clicked(change):\n",
    "    button.disabled = True\n",
    "    display(button)\n",
    "    \n",
    "    output.clear_output()\n",
    "    topicsOutput.value =''\n",
    "    display(topicsOutput)\n",
    "    \n",
    "    print(\"start topic mining\")\n",
    "    if dropdown.value == \"1\":\n",
    "        output_text = run_lda(textDisplay.value)\n",
    "    else:\n",
    "        output_text = run_lsi(textDisplay.value)\n",
    "        \n",
    "    topicsOutput.value = getHTMLTable(output_text)\n",
    "    \n",
    "    button.disabled = False\n",
    "    display(button)\n",
    "    display(topicsOutput)\n",
    "    \n",
    "    with output:\n",
    "        print(\"✅ DONE! Scroll down ⬇\")"
   ]
  },
  {
   "cell_type": "code",
   "execution_count": 6,
   "metadata": {},
   "outputs": [],
   "source": [
    "def on_rbutton_change(change):\n",
    "    '''\n",
    "    Triggered when radio button state is changed\n",
    "    '''\n",
    "    selection = change[\"new\"]\n",
    "#     print(selection)\n",
    "    \n",
    "    textDisplay.value = \"\"\n",
    "    \n",
    "    mapping = {\"Demo 1: Breweries Reviews\":\"Breweries.txt\",\n",
    "               \"Demo 2: Coffee & Tea Reviews\":\"Coffee_&_Tea.txt\",\n",
    "               \"Demo 3: Fish & Chips Reviews\":\"Fish_&_Chips.txt\"}\n",
    "    \n",
    "    # Reset the output and segOutput widgets\n",
    "    output.clear_output()\n",
    "    topicsOutput.value =''\n",
    "    display(topicsOutput)\n",
    "    \n",
    "#     print(mapping[selection])\n",
    "    # Update status widget\n",
    "    status.clear_output()\n",
    "    with status: print(\"Updating dataset..\")\n",
    "        \n",
    "    if selection in [\"Demo 1: Breweries Reviews\",\"Demo 2: Coffee & Tea Reviews\",\"Demo 3: Fish & Chips Reviews\"]:\n",
    "        # Disable the uploader\n",
    "        uploader.disabled = True\n",
    "        display(uploader)\n",
    "        \n",
    "        # read in text\n",
    "        with open (mapping[selection], 'r', encoding=\"utf-8\") as f:\n",
    "            content = f.read()\n",
    "            textDisplay.value = content\n",
    "        \n",
    "#         for review in content:\n",
    "#             text.append(review)\n",
    "#         print(len(text))\n",
    "#         imgDisplay.value = tempImage\n",
    "#         display(imgDisplay)\n",
    "        # Enable processing button\n",
    "        button.disabled = False\n",
    "        display(button)\n",
    "        \n",
    "        \n",
    "        \n",
    "        status.clear_output()\n",
    "        with status: print(\"Dataset updated! Set parameters and click 'Start Mining'\")\n",
    "\n",
    "    else: # upload\n",
    "        # Enable the uploader\n",
    "        uploader.disabled = False\n",
    "        display(uploader)\n",
    "        # Disable processing button\n",
    "        button.disabled = True\n",
    "        display(button)\n",
    "        # Remove image\n",
    "#         imgDisplay.value=phImage\n",
    "#         display(imgDisplay)\n",
    "        \n",
    "        status.clear_output()\n",
    "        with status: print(\"Select a dataset and wait for the 'Dataset Uploaded' message.\")"
   ]
  },
  {
   "cell_type": "code",
   "execution_count": 7,
   "metadata": {},
   "outputs": [],
   "source": [
    "def on_slider_change(change):\n",
    "    num_topics.value=change['new']\n",
    "    # Reset the output and segOutput widgets\n",
    "#     output.clear_output()\n",
    "#     topicsOutput.value =''\n",
    "#     display(topicsOutput)\n",
    "\n",
    "def on_slider_word_change(change):\n",
    "    num_words.value=change['new']\n",
    "    # Reset the output and segOutput widgets\n",
    "#     output.clear_output()\n",
    "#     topicsOutput.value =''\n",
    "#     display(topicsOutput)\n",
    "\n",
    "def on_dropdown_change(change):\n",
    "    model_type.value=change['new']\n",
    "#     print(model_type)"
   ]
  },
  {
   "cell_type": "markdown",
   "metadata": {},
   "source": [
    "## Load Data"
   ]
  },
  {
   "cell_type": "code",
   "execution_count": 23,
   "metadata": {},
   "outputs": [],
   "source": [
    "# text = []\n",
    "slider = widgets.IntSlider(min=0, max=20, step=1, value=10, description='Topics#')\n",
    "num_topics = widgets.IntText()\n",
    "slider_word = widgets.IntSlider(min=0, max=20, step=1, value=10, description='Word#')\n",
    "num_words = widgets.IntText()\n",
    "dropdown = widgets.Dropdown(\n",
    "    options=[('LDA', 1), ('LSI', 2)],\n",
    "    value=1,\n",
    "    description='Model:'\n",
    ")\n",
    "model_type = widgets.IntText(value=\"1\")"
   ]
  },
  {
   "cell_type": "code",
   "execution_count": 24,
   "metadata": {},
   "outputs": [
    {
     "data": {
      "application/vnd.jupyter.widget-view+json": {
       "model_id": "70bad0d73dbe41afa3ba2be06501870a",
       "version_major": 2,
       "version_minor": 0
      },
      "text/plain": [
       "RadioButtons(description='Reviews', index=3, layout=Layout(width='max-content'), options=('Demo 1: Breweries R…"
      ]
     },
     "metadata": {},
     "output_type": "display_data"
    },
    {
     "data": {
      "application/vnd.jupyter.widget-view+json": {
       "model_id": "d42165155fb8403c84354c314e6f470c",
       "version_major": 2,
       "version_minor": 0
      },
      "text/plain": [
       "FileUpload(value={}, accept='.txt', description='Upload')"
      ]
     },
     "metadata": {},
     "output_type": "display_data"
    },
    {
     "data": {
      "application/vnd.jupyter.widget-view+json": {
       "model_id": "7613115773b94007985d38dd0962f1f1",
       "version_major": 2,
       "version_minor": 0
      },
      "text/plain": [
       "Output()"
      ]
     },
     "metadata": {},
     "output_type": "display_data"
    },
    {
     "data": {
      "application/vnd.jupyter.widget-view+json": {
       "model_id": "8b8867721ba048d78a28f0ab0f94af68",
       "version_major": 2,
       "version_minor": 0
      },
      "text/plain": [
       "Dropdown(description='Model:', options=(('LDA', 1), ('LSI', 2)), value=1)"
      ]
     },
     "metadata": {},
     "output_type": "display_data"
    },
    {
     "data": {
      "application/vnd.jupyter.widget-view+json": {
       "model_id": "3cf50db305c741189ebd20e73e31abb9",
       "version_major": 2,
       "version_minor": 0
      },
      "text/plain": [
       "IntSlider(value=10, description='Topics#', max=20)"
      ]
     },
     "metadata": {},
     "output_type": "display_data"
    },
    {
     "data": {
      "application/vnd.jupyter.widget-view+json": {
       "model_id": "4a9bfcf22b6e4331ab08644bb139a816",
       "version_major": 2,
       "version_minor": 0
      },
      "text/plain": [
       "IntSlider(value=10, description='Word#', max=20)"
      ]
     },
     "metadata": {},
     "output_type": "display_data"
    },
    {
     "name": "stdout",
     "output_type": "stream",
     "text": [
      "IntText(value=2)\n",
      "IntText(value=1)\n"
     ]
    }
   ],
   "source": [
    "# input\n",
    "# layout = widgets.Layout(width='800px', height='40px')\n",
    "uploader = widgets.FileUpload( accept='.txt', multiple=False, disabled=False)\n",
    "textDisplay = widgets.Text(value=\"Select a dataset and wait for the 'Dataset Uploaded' message.\")\n",
    "rbutton = widgets.RadioButtons(\n",
    "    options=['Demo 1: Breweries Reviews','Demo 2: Coffee & Tea Reviews','Demo 3: Fish & Chips Reviews', 'Upload'],\n",
    "    description='Reviews',\n",
    "    disabled=False,\n",
    "    value='Upload',\n",
    "    layout={'width': 'max-content'}\n",
    ")\n",
    "\n",
    "button = widgets.Button(\n",
    "    description='Start mining',\n",
    "    disabled=True,\n",
    "    button_style='info', # 'success', 'info', 'warning', 'danger' or ''\n",
    "    tooltip='Process the image to create a list of books',\n",
    ")\n",
    "\n",
    "status = widgets.Output()\n",
    "with status: print(\"Select a dataset to upload or choose a demo and wait for the 'Dataset Uploaded' message.\")\n",
    "output = widgets.Output()\n",
    "topicsOutput = widgets.HTML()\n",
    "\n",
    "\n",
    "display(rbutton,uploader,status)\n",
    "\n",
    "rbutton.observe(on_rbutton_change,\"value\")\n",
    "uploader.observe(on_upload, names='value')\n",
    "button.on_click(on_button_clicked)\n",
    "slider.observe(on_slider_change, names='value')\n",
    "slider_word.observe(on_slider_word_change, names='value')\n",
    "dropdown.observe(on_dropdown_change, names='value')\n",
    "\n",
    "display(dropdown,slider,slider_word)"
   ]
  },
  {
   "cell_type": "code",
   "execution_count": 14,
   "metadata": {},
   "outputs": [
    {
     "data": {
      "application/vnd.jupyter.widget-view+json": {
       "model_id": "c11ddd7990da4940af7cacd61fc5f873",
       "version_major": 2,
       "version_minor": 0
      },
      "text/plain": [
       "Button(button_style='info', description='Start mining', disabled=True, style=ButtonStyle(), tooltip='Process t…"
      ]
     },
     "metadata": {},
     "output_type": "display_data"
    }
   ],
   "source": [
    "display(button)"
   ]
  },
  {
   "cell_type": "markdown",
   "metadata": {},
   "source": [
    "***\n",
    "## Processing Results"
   ]
  },
  {
   "cell_type": "code",
   "execution_count": 31,
   "metadata": {},
   "outputs": [
    {
     "data": {
      "application/vnd.jupyter.widget-view+json": {
       "model_id": "f77d946cc8bd4e449d7e069bcfe06eb8",
       "version_major": 2,
       "version_minor": 0
      },
      "text/plain": [
       "Output(outputs=({'output_type': 'stream', 'text': 'Creating text representation ...\\n', 'name': 'stdout'},))"
      ]
     },
     "metadata": {},
     "output_type": "display_data"
    },
    {
     "data": {
      "application/vnd.jupyter.widget-view+json": {
       "model_id": "7a13c2f6e8294cdd87d90627c4ff61f3",
       "version_major": 2,
       "version_minor": 0
      },
      "text/plain": [
       "HTML(value='\\n    <style type=\"text/css\">\\n        table.minimalistBlack {\\n          border: 1px solid #00000…"
      ]
     },
     "metadata": {},
     "output_type": "display_data"
    }
   ],
   "source": [
    "display(output,topicsOutput)"
   ]
  },
  {
   "cell_type": "code",
   "execution_count": null,
   "metadata": {},
   "outputs": [],
   "source": []
  }
 ],
 "metadata": {
  "kernelspec": {
   "display_name": "Python 3",
   "language": "python",
   "name": "python3"
  },
  "language_info": {
   "codemirror_mode": {
    "name": "ipython",
    "version": 3
   },
   "file_extension": ".py",
   "mimetype": "text/x-python",
   "name": "python",
   "nbconvert_exporter": "python",
   "pygments_lexer": "ipython3",
   "version": "3.7.4"
  }
 },
 "nbformat": 4,
 "nbformat_minor": 2
}
