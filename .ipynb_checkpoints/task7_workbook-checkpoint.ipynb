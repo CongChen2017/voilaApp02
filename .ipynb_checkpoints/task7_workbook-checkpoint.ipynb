{
 "cells": [
  {
   "cell_type": "markdown",
   "metadata": {},
   "source": [
    "# Topic Mining from Reviews or Text 📚\n",
    "\n",
    "This application takes a collection of reviews or other texts and mines topics from the corpus.\n",
    "\n",
    "**Usage**\n",
    "- Please wait for the app to load.\n",
    "- Select or upload dataset and then click on the 'Start Mining' button below.  \n",
    "- The uploaded data will be text file with one review per line.\n",
    "\n",
    "\n",
    "Cong Chen | congc4@illinois.edu\n",
    "\n",
    "***"
   ]
  },
  {
   "cell_type": "code",
   "execution_count": 1,
   "metadata": {},
   "outputs": [],
   "source": [
    "from sklearn.feature_extraction.text import TfidfVectorizer\n",
    "from time import time\n",
    "from gensim import models\n",
    "from gensim import matutils\n",
    "import ipywidgets as widgets\n",
    "from IPython.display import display\n",
    "import codecs"
   ]
  },
  {
   "cell_type": "code",
   "execution_count": 2,
   "metadata": {},
   "outputs": [],
   "source": [
    "def run_lda(text):\n",
    "    numfeatures = 500\n",
    "    num_display_words = 10\n",
    "\n",
    "    K_clusters = 10\n",
    "    vectorizer = TfidfVectorizer(max_df=0.5, max_features=numfeatures,\n",
    "                                     min_df=2, stop_words='english',\n",
    "                                     use_idf=True)\n",
    "    with output: print(\"Creating text representation ...\")\n",
    "    X = vectorizer.fit_transform(text)\n",
    "    \n",
    "    id2words ={}\n",
    "    for i,word in enumerate(vectorizer.get_feature_names()):\n",
    "        id2words[i] = word\n",
    "    with output: print(\"Building corpus ...\")    \n",
    "    corpus = matutils.Sparse2Corpus(X,  documents_columns=False)\n",
    "    with output: print(\"Running topic mining algorithm ...\")\n",
    "    lda = models.ldamodel.LdaModel(corpus, num_topics=K_clusters, id2word=id2words)\n",
    "    output_text = []\n",
    "    for i, item in enumerate(lda.show_topics(num_topics=K_clusters, num_words=num_display_words, formatted=False)):\n",
    "        topic_mined = []\n",
    "        for term in item[1]:\n",
    "            topic_mined.append( term[0] )\n",
    "        output_text.append(topic_mined)\n",
    "    \n",
    "    return output_text"
   ]
  },
  {
   "cell_type": "code",
   "execution_count": 3,
   "metadata": {},
   "outputs": [],
   "source": [
    "def getHTMLTable(output_text):\n",
    "    # CSS style generated using https://divtable.com/table-styler/\n",
    "    html='''\n",
    "    <style type=\"text/css\">\n",
    "        table.minimalistBlack {\n",
    "          border: 1px solid #000000;\n",
    "          width: 100%;\n",
    "          text-align: left;\n",
    "          border-collapse: collapse;\n",
    "        }\n",
    "        table.minimalistBlack td, table.minimalistBlack th {\n",
    "          border: 1px solid #000000;\n",
    "          padding: 4px 4px;\n",
    "        }\n",
    "        table.minimalistBlack tbody td {\n",
    "          font-size: 13px;\n",
    "        }\n",
    "        table.minimalistBlack thead {\n",
    "          background: #CFCFCF;\n",
    "          background: -moz-linear-gradient(top, #dbdbdb 0%, #d3d3d3 66%, #CFCFCF 100%);\n",
    "          background: -webkit-linear-gradient(top, #dbdbdb 0%, #d3d3d3 66%, #CFCFCF 100%);\n",
    "          background: linear-gradient(to bottom, #dbdbdb 0%, #d3d3d3 66%, #CFCFCF 100%);\n",
    "          border-bottom: 2px solid #000000;\n",
    "        }\n",
    "        table.minimalistBlack thead th {\n",
    "          font-size: 15px;\n",
    "          font-weight: bold;\n",
    "          color: #000000;\n",
    "          text-align: left;\n",
    "        }\n",
    "        table.minimalistBlack tfoot td {\n",
    "          font-size: 14px;\n",
    "        }\n",
    "    </style>\n",
    "    \n",
    "    <table class=\"minimalistBlack\">\n",
    "        <tr>\n",
    "            <th>Topic</th>\n",
    "            <th>Keywords</th>\n",
    "        </tr>\n",
    "        '''\n",
    "    i=1\n",
    "    for b in output_text:\n",
    "        html += '''\n",
    "        <tr>\n",
    "            <td>{}</td>\n",
    "            <td>{}</td>\n",
    "        </tr>\n",
    "        '''.format(i,str(b))\n",
    "        i+=1\n",
    "    html+=\"</table>\"\n",
    "    return html"
   ]
  },
  {
   "cell_type": "code",
   "execution_count": 4,
   "metadata": {},
   "outputs": [],
   "source": [
    "# Set up uploader events\n",
    "def on_upload(change):\n",
    "    '''\n",
    "    Triggered when image is uploaded\n",
    "    '''\n",
    "    print(\"start read in file\")\n",
    "    temp = codecs.decode(list(uploader.value.values())[0]['content'], encoding=\"utf-8\")\n",
    "    content = temp.split(\"\\n\")\n",
    "    \n",
    "    for review in content:\n",
    "        text.append(review)\n",
    "    \n",
    "    button.disabled = False\n",
    "    display(button)\n",
    "    \n",
    "    status.clear_output()\n",
    "    with status: print(\"Dataset uploaded! Click 'Start Mining'\")\n",
    "    \n",
    "    return"
   ]
  },
  {
   "cell_type": "code",
   "execution_count": 5,
   "metadata": {},
   "outputs": [],
   "source": [
    "def on_button_clicked(change):\n",
    "    button.disabled = True\n",
    "    display(button)\n",
    "    \n",
    "    \n",
    "    print(\"start topic mining\")\n",
    "    output_text = run_lda(text)\n",
    "    topicsOutput.value = getHTMLTable(output_text)\n",
    "    \n",
    "    button.disabled = False\n",
    "    display(button)\n",
    "    display(topicsOutput)\n",
    "    \n",
    "    with output:\n",
    "        print(\"✅ DONE! Scroll down ⬇\")"
   ]
  },
  {
   "cell_type": "code",
   "execution_count": 29,
   "metadata": {},
   "outputs": [],
   "source": [
    "def on_rbutton_change(change):\n",
    "    '''\n",
    "    Triggered when radio button state is changed\n",
    "    '''\n",
    "    \n",
    "    selection = change[\"new\"]\n",
    "#     print(selection)\n",
    "    \n",
    "    mapping = {\"Demo 1: Breweries Reviews\":\"Breweries.txt\",\n",
    "               \"Demo 2: Coffee & Tea Reviews\":\"Coffee_&_Tea.txt\",\n",
    "               \"Demo 3: Fish & Chips Reviews\":\"Fish_&_Chips.txt\"}\n",
    "    \n",
    "    # Reset the output and segOutput widgets\n",
    "    output.clear_output()\n",
    "    topicsOutput.value =''\n",
    "    display(topicsOutput)\n",
    "    \n",
    "#     print(mapping[selection])\n",
    "    # Update status widget\n",
    "    status.clear_output()\n",
    "    with status: print(\"Updating dataset..\")\n",
    "        \n",
    "    if selection in [\"Demo 1: Breweries Reviews\",\"Demo 2: Coffee & Tea Reviews\",\"Demo 3: Fish & Chips Reviews\"]:\n",
    "        # Disable the uploader\n",
    "        uploader.disabled = True\n",
    "        display(uploader)\n",
    "        \n",
    "        # read in text\n",
    "        with open (mapping[selection], 'r', encoding=\"utf-8\") as f:\n",
    "            content = f.readlines()\n",
    "        \n",
    "        for review in content:\n",
    "            text.append(review)\n",
    "#         print(len(text))\n",
    "#         imgDisplay.value = tempImage\n",
    "#         display(imgDisplay)\n",
    "        # Enable processing button\n",
    "        button.disabled = False\n",
    "        display(button)\n",
    "        \n",
    "        status.clear_output()\n",
    "        with status: print(\"Dataset updated! Click 'Start Mining'\")\n",
    "\n",
    "    else: # upload\n",
    "        # Enable the uploader\n",
    "        uploader.disabled = False\n",
    "        display(uploader)\n",
    "        # Disable processing button\n",
    "        button.disabled = True\n",
    "        display(button)\n",
    "        # Remove image\n",
    "#         imgDisplay.value=phImage\n",
    "#         display(imgDisplay)\n",
    "        \n",
    "        status.clear_output()\n",
    "        with status: print(\"Select a dataset and wait for the 'Dataset Uploaded' message.\")"
   ]
  },
  {
   "cell_type": "markdown",
   "metadata": {},
   "source": [
    "## Load Data"
   ]
  },
  {
   "cell_type": "code",
   "execution_count": 24,
   "metadata": {},
   "outputs": [],
   "source": [
    "text = []"
   ]
  },
  {
   "cell_type": "code",
   "execution_count": 30,
   "metadata": {},
   "outputs": [
    {
     "data": {
      "application/vnd.jupyter.widget-view+json": {
       "model_id": "eac15343ed494cdd885363ea37559b4f",
       "version_major": 2,
       "version_minor": 0
      },
      "text/plain": [
       "RadioButtons(description='Reviews', layout=Layout(width='max-content'), options=('Demo 1', 'Demo 2', 'Demo 3',…"
      ]
     },
     "metadata": {},
     "output_type": "display_data"
    },
    {
     "data": {
      "application/vnd.jupyter.widget-view+json": {
       "model_id": "5036934156d8412086eee90275becbfa",
       "version_major": 2,
       "version_minor": 0
      },
      "text/plain": [
       "FileUpload(value={}, accept='.txt', description='Upload')"
      ]
     },
     "metadata": {},
     "output_type": "display_data"
    },
    {
     "data": {
      "application/vnd.jupyter.widget-view+json": {
       "model_id": "8373017d4cb545d08222783835816b2d",
       "version_major": 2,
       "version_minor": 0
      },
      "text/plain": [
       "Output()"
      ]
     },
     "metadata": {},
     "output_type": "display_data"
    },
    {
     "name": "stdout",
     "output_type": "stream",
     "text": [
      "Coffee_&_Tea.txt\n"
     ]
    },
    {
     "data": {
      "application/vnd.jupyter.widget-view+json": {
       "model_id": "5036934156d8412086eee90275becbfa",
       "version_major": 2,
       "version_minor": 0
      },
      "text/plain": [
       "FileUpload(value={}, accept='.txt', description='Upload', disabled=True)"
      ]
     },
     "metadata": {},
     "output_type": "display_data"
    },
    {
     "data": {
      "application/vnd.jupyter.widget-view+json": {
       "model_id": "5be059f307e44f83a5e20404a88259d7",
       "version_major": 2,
       "version_minor": 0
      },
      "text/plain": [
       "Button(button_style='info', description='Start mining', style=ButtonStyle(), tooltip='Process the image to cre…"
      ]
     },
     "metadata": {},
     "output_type": "display_data"
    },
    {
     "data": {
      "application/vnd.jupyter.widget-view+json": {
       "model_id": "5be059f307e44f83a5e20404a88259d7",
       "version_major": 2,
       "version_minor": 0
      },
      "text/plain": [
       "Button(button_style='info', description='Start mining', disabled=True, style=ButtonStyle(), tooltip='Process t…"
      ]
     },
     "metadata": {},
     "output_type": "display_data"
    },
    {
     "name": "stdout",
     "output_type": "stream",
     "text": [
      "start topic mining\n"
     ]
    },
    {
     "data": {
      "application/vnd.jupyter.widget-view+json": {
       "model_id": "5be059f307e44f83a5e20404a88259d7",
       "version_major": 2,
       "version_minor": 0
      },
      "text/plain": [
       "Button(button_style='info', description='Start mining', style=ButtonStyle(), tooltip='Process the image to cre…"
      ]
     },
     "metadata": {},
     "output_type": "display_data"
    },
    {
     "data": {
      "application/vnd.jupyter.widget-view+json": {
       "model_id": "7a13c2f6e8294cdd87d90627c4ff61f3",
       "version_major": 2,
       "version_minor": 0
      },
      "text/plain": [
       "HTML(value='\\n    <style type=\"text/css\">\\n        table.minimalistBlack {\\n          border: 1px solid #00000…"
      ]
     },
     "metadata": {},
     "output_type": "display_data"
    }
   ],
   "source": [
    "# input\n",
    "uploader = widgets.FileUpload( accept='.txt', multiple=False, disabled=False)\n",
    "\n",
    "rbutton = widgets.RadioButtons(\n",
    "    options=['Demo 1: Breweries Reviews','Demo 2: Coffee & Tea Reviews','Demo 3: Fish & Chips Reviews', 'Upload'],\n",
    "    description='Reviews',\n",
    "    disabled=False,\n",
    "    value='Upload',\n",
    "    layout={'width': 'max-content'}\n",
    ")\n",
    "\n",
    "button = widgets.Button(\n",
    "    description='Start mining',\n",
    "    disabled=False,\n",
    "    button_style='info', # 'success', 'info', 'warning', 'danger' or ''\n",
    "    tooltip='Process the image to create a list of books',\n",
    ")\n",
    "\n",
    "status = widgets.Output()\n",
    "output = widgets.Output()\n",
    "topicsOutput = widgets.HTML()\n",
    "\n",
    "\n",
    "display(rbutton,uploader,status)\n",
    "\n",
    "rbutton.observe(on_rbutton_change,\"value\")\n",
    "uploader.observe(on_upload, names='value')\n",
    "button.on_click(on_button_clicked)"
   ]
  },
  {
   "cell_type": "code",
   "execution_count": 11,
   "metadata": {},
   "outputs": [
    {
     "data": {
      "application/vnd.jupyter.widget-view+json": {
       "model_id": "3ef3360f73514350b3ddad776a0684bb",
       "version_major": 2,
       "version_minor": 0
      },
      "text/plain": [
       "Button(button_style='info', description='Start mining', style=ButtonStyle(), tooltip='Process the image to cre…"
      ]
     },
     "metadata": {},
     "output_type": "display_data"
    }
   ],
   "source": [
    "display(button)"
   ]
  },
  {
   "cell_type": "markdown",
   "metadata": {},
   "source": [
    "***\n",
    "## Processing Results"
   ]
  },
  {
   "cell_type": "code",
   "execution_count": 31,
   "metadata": {},
   "outputs": [
    {
     "data": {
      "application/vnd.jupyter.widget-view+json": {
       "model_id": "f77d946cc8bd4e449d7e069bcfe06eb8",
       "version_major": 2,
       "version_minor": 0
      },
      "text/plain": [
       "Output(outputs=({'output_type': 'stream', 'text': 'Creating text representation ...\\n', 'name': 'stdout'},))"
      ]
     },
     "metadata": {},
     "output_type": "display_data"
    },
    {
     "data": {
      "application/vnd.jupyter.widget-view+json": {
       "model_id": "7a13c2f6e8294cdd87d90627c4ff61f3",
       "version_major": 2,
       "version_minor": 0
      },
      "text/plain": [
       "HTML(value='\\n    <style type=\"text/css\">\\n        table.minimalistBlack {\\n          border: 1px solid #00000…"
      ]
     },
     "metadata": {},
     "output_type": "display_data"
    }
   ],
   "source": [
    "display(output,topicsOutput)"
   ]
  },
  {
   "cell_type": "code",
   "execution_count": null,
   "metadata": {},
   "outputs": [],
   "source": []
  }
 ],
 "metadata": {
  "kernelspec": {
   "display_name": "Python 3",
   "language": "python",
   "name": "python3"
  },
  "language_info": {
   "codemirror_mode": {
    "name": "ipython",
    "version": 3
   },
   "file_extension": ".py",
   "mimetype": "text/x-python",
   "name": "python",
   "nbconvert_exporter": "python",
   "pygments_lexer": "ipython3",
   "version": "3.7.4"
  }
 },
 "nbformat": 4,
 "nbformat_minor": 2
}
