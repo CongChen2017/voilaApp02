{
 "cells": [
  {
   "cell_type": "code",
   "execution_count": 1,
   "metadata": {},
   "outputs": [],
   "source": [
    "from sklearn.feature_extraction.text import TfidfVectorizer\n",
    "from time import time\n",
    "from gensim import models\n",
    "from gensim import matutils\n",
    "import ipywidgets as widgets\n",
    "from IPython.display import display\n",
    "import codecs"
   ]
  },
  {
   "cell_type": "markdown",
   "metadata": {},
   "source": [
    "# Topic mining from reviews or other text\n",
    "\n",
    "## Users can use data set provided or using their own data set and run topic mining algorithems."
   ]
  },
  {
   "cell_type": "markdown",
   "metadata": {},
   "source": [
    "### Part 1: Load data"
   ]
  },
  {
   "cell_type": "code",
   "execution_count": 2,
   "metadata": {},
   "outputs": [],
   "source": [
    "# sample_file = \"test.txt\"\n",
    "\n",
    "text = []\n",
    "# with open (sample_file, 'r') as f:\n",
    "#     text = f.readlines()\n",
    "\n",
    "# len(text)"
   ]
  },
  {
   "cell_type": "code",
   "execution_count": 3,
   "metadata": {},
   "outputs": [],
   "source": [
    "# text"
   ]
  },
  {
   "cell_type": "code",
   "execution_count": 4,
   "metadata": {},
   "outputs": [],
   "source": [
    "def run_lda(text):\n",
    "    numfeatures = 500\n",
    "    num_display_words = 10\n",
    "\n",
    "    K_clusters = 10\n",
    "    vectorizer = TfidfVectorizer(max_df=0.5, max_features=numfeatures,\n",
    "                                     min_df=2, stop_words='english',\n",
    "                                     use_idf=True)\n",
    "    X = vectorizer.fit_transform(text)\n",
    "    id2words ={}\n",
    "    for i,word in enumerate(vectorizer.get_feature_names()):\n",
    "        id2words[i] = word\n",
    "        \n",
    "    corpus = matutils.Sparse2Corpus(X,  documents_columns=False)\n",
    "    lda = models.ldamodel.LdaModel(corpus, num_topics=K_clusters, id2word=id2words)\n",
    "    \n",
    "    output_text = []\n",
    "    for i, item in enumerate(lda.show_topics(num_topics=K_clusters, num_words=num_display_words, formatted=False)):\n",
    "        output_text.append(\"Topic: \" + str(i))\n",
    "        for term in item[1]:\n",
    "            output_text.append( term[0] + \" : \" + str(term[1]) )\n",
    "    \n",
    "    with output: print(output_text)\n",
    "    \n",
    "    return\n",
    "    "
   ]
  },
  {
   "cell_type": "code",
   "execution_count": 5,
   "metadata": {},
   "outputs": [],
   "source": [
    "# Set up uploader events\n",
    "def on_upload(change):\n",
    "    '''\n",
    "    Triggered when image is uploaded\n",
    "    '''\n",
    "    print(\"start read in file\")\n",
    "    temp = codecs.decode(list(uploader.value.values())[0]['content'], encoding=\"utf-8\")\n",
    "    content = temp.split(\"\\n\")\n",
    "    \n",
    "    for review in content:\n",
    "        text.append(review)\n",
    "    \n",
    "    button.disabled = False\n",
    "    display(button)\n",
    "    \n",
    "    return\n",
    "#     for v in uploader.value.values():\n",
    "        \n",
    "#         display(v)\n",
    "#         # Enable processing button\n",
    "#         button.disabled = True\n",
    "# #         display(button)\n",
    "        \n",
    "#         status.clear_output()\n",
    "#         with status: print(\"Image uploaded! Click 'Process Image'\")\n",
    "#         break"
   ]
  },
  {
   "cell_type": "code",
   "execution_count": null,
   "metadata": {},
   "outputs": [],
   "source": []
  },
  {
   "cell_type": "code",
   "execution_count": 6,
   "metadata": {},
   "outputs": [],
   "source": [
    "def on_button_clicked(change):\n",
    "    button.disabled = True\n",
    "    display(button)\n",
    "    \n",
    "#     print(\"start read in file\")\n",
    "#     temp = codecs.decode(list(uploader.value.values())[0]['content'], encoding=\"utf-8\")\n",
    "#     content = temp.split(\"\\n\")\n",
    "    \n",
    "#     for review in content:\n",
    "#         text.append(review)\n",
    "    \n",
    "    print(\"start topic mining\")\n",
    "#     output_text = []\n",
    "    run_lda(text)\n",
    "    \n",
    "    button.disabled = False\n",
    "    display(button)\n",
    "    \n",
    "#     with output:\n",
    "#         print(\"✅ DONE! Scroll down ⬇\")"
   ]
  },
  {
   "cell_type": "code",
   "execution_count": 7,
   "metadata": {},
   "outputs": [
    {
     "data": {
      "application/vnd.jupyter.widget-view+json": {
       "model_id": "1c3adaf66b3b4e97a8bee037ecb8e5e6",
       "version_major": 2,
       "version_minor": 0
      },
      "text/plain": [
       "FileUpload(value={}, accept='.txt', description='Upload')"
      ]
     },
     "metadata": {},
     "output_type": "display_data"
    },
    {
     "name": "stdout",
     "output_type": "stream",
     "text": [
      "start read in file\n"
     ]
    },
    {
     "data": {
      "application/vnd.jupyter.widget-view+json": {
       "model_id": "74452d4a77b74d99a7d4f90bba16785a",
       "version_major": 2,
       "version_minor": 0
      },
      "text/plain": [
       "Button(button_style='info', description='Start mining', style=ButtonStyle(), tooltip='Process the image to cre…"
      ]
     },
     "metadata": {},
     "output_type": "display_data"
    },
    {
     "data": {
      "application/vnd.jupyter.widget-view+json": {
       "model_id": "74452d4a77b74d99a7d4f90bba16785a",
       "version_major": 2,
       "version_minor": 0
      },
      "text/plain": [
       "Button(button_style='info', description='Start mining', disabled=True, style=ButtonStyle(), tooltip='Process t…"
      ]
     },
     "metadata": {},
     "output_type": "display_data"
    },
    {
     "name": "stdout",
     "output_type": "stream",
     "text": [
      "start topic mining\n"
     ]
    },
    {
     "data": {
      "application/vnd.jupyter.widget-view+json": {
       "model_id": "74452d4a77b74d99a7d4f90bba16785a",
       "version_major": 2,
       "version_minor": 0
      },
      "text/plain": [
       "Button(button_style='info', description='Start mining', style=ButtonStyle(), tooltip='Process the image to cre…"
      ]
     },
     "metadata": {},
     "output_type": "display_data"
    },
    {
     "data": {
      "application/vnd.jupyter.widget-view+json": {
       "model_id": "74452d4a77b74d99a7d4f90bba16785a",
       "version_major": 2,
       "version_minor": 0
      },
      "text/plain": [
       "Button(button_style='info', description='Start mining', disabled=True, style=ButtonStyle(), tooltip='Process t…"
      ]
     },
     "metadata": {},
     "output_type": "display_data"
    },
    {
     "name": "stdout",
     "output_type": "stream",
     "text": [
      "start topic mining\n"
     ]
    },
    {
     "data": {
      "application/vnd.jupyter.widget-view+json": {
       "model_id": "74452d4a77b74d99a7d4f90bba16785a",
       "version_major": 2,
       "version_minor": 0
      },
      "text/plain": [
       "Button(button_style='info', description='Start mining', style=ButtonStyle(), tooltip='Process the image to cre…"
      ]
     },
     "metadata": {},
     "output_type": "display_data"
    }
   ],
   "source": [
    "# input\n",
    "uploader = widgets.FileUpload( accept='.txt', multiple=False, disabled=False)\n",
    "\n",
    "button = widgets.Button(\n",
    "    description='Start mining',\n",
    "    disabled=False,\n",
    "    button_style='info', # 'success', 'info', 'warning', 'danger' or ''\n",
    "    tooltip='Process the image to create a list of books',\n",
    ")\n",
    "\n",
    "output = widgets.Output()\n",
    "\n",
    "display(uploader)\n",
    "uploader.observe(on_upload, names='value')"
   ]
  },
  {
   "cell_type": "code",
   "execution_count": 9,
   "metadata": {},
   "outputs": [],
   "source": [
    "display(button)\n",
    "button.on_click(on_button_clicked)"
   ]
  },
  {
   "cell_type": "code",
   "execution_count": null,
   "metadata": {},
   "outputs": [],
   "source": [
    "# list(uploader.value.values())[0]['content']"
   ]
  },
  {
   "cell_type": "markdown",
   "metadata": {},
   "source": [
    "### Part 2: Run LDA model"
   ]
  },
  {
   "cell_type": "markdown",
   "metadata": {},
   "source": [
    "***\n",
    "## Processing Results"
   ]
  },
  {
   "cell_type": "code",
   "execution_count": 10,
   "metadata": {},
   "outputs": [
    {
     "data": {
      "application/vnd.jupyter.widget-view+json": {
       "model_id": "74a144d37c864a35b2e0b5549f3d5014",
       "version_major": 2,
       "version_minor": 0
      },
      "text/plain": [
       "Output(outputs=({'output_type': 'stream', 'text': \"['Topic: 0', 'lunch : 0.33345222', 'tasty : 0.33329472', 'b…"
      ]
     },
     "metadata": {},
     "output_type": "display_data"
    }
   ],
   "source": [
    "display(output)"
   ]
  },
  {
   "cell_type": "code",
   "execution_count": null,
   "metadata": {},
   "outputs": [],
   "source": []
  }
 ],
 "metadata": {
  "kernelspec": {
   "display_name": "Python 3",
   "language": "python",
   "name": "python3"
  },
  "language_info": {
   "codemirror_mode": {
    "name": "ipython",
    "version": 3
   },
   "file_extension": ".py",
   "mimetype": "text/x-python",
   "name": "python",
   "nbconvert_exporter": "python",
   "pygments_lexer": "ipython3",
   "version": "3.7.4"
  }
 },
 "nbformat": 4,
 "nbformat_minor": 2
}
